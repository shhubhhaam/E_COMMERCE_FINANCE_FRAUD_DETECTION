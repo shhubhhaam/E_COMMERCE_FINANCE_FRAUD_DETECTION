{
 "cells": [
  {
   "cell_type": "code",
   "execution_count": 15,
   "id": "7abda838",
   "metadata": {},
   "outputs": [
    {
     "name": "stdout",
     "output_type": "stream",
     "text": [
      "Defaulting to user installation because normal site-packages is not writeable\n",
      "Requirement already satisfied: kagglehub in c:\\users\\shubham prajapati.laptop-ovuqkegp\\appdata\\roaming\\python\\python313\\site-packages (0.3.13)\n",
      "Requirement already satisfied: packaging in c:\\users\\shubham prajapati.laptop-ovuqkegp\\appdata\\roaming\\python\\python313\\site-packages (from kagglehub) (25.0)\n",
      "Requirement already satisfied: pyyaml in c:\\users\\shubham prajapati.laptop-ovuqkegp\\appdata\\roaming\\python\\python313\\site-packages (from kagglehub) (6.0.3)\n",
      "Requirement already satisfied: requests in c:\\users\\shubham prajapati.laptop-ovuqkegp\\appdata\\roaming\\python\\python313\\site-packages (from kagglehub) (2.32.5)\n",
      "Requirement already satisfied: tqdm in c:\\users\\shubham prajapati.laptop-ovuqkegp\\appdata\\roaming\\python\\python313\\site-packages (from kagglehub) (4.67.1)\n",
      "Requirement already satisfied: charset_normalizer<4,>=2 in c:\\users\\shubham prajapati.laptop-ovuqkegp\\appdata\\roaming\\python\\python313\\site-packages (from requests->kagglehub) (3.4.3)\n",
      "Requirement already satisfied: idna<4,>=2.5 in c:\\users\\shubham prajapati.laptop-ovuqkegp\\appdata\\roaming\\python\\python313\\site-packages (from requests->kagglehub) (3.10)\n",
      "Requirement already satisfied: urllib3<3,>=1.21.1 in c:\\users\\shubham prajapati.laptop-ovuqkegp\\appdata\\roaming\\python\\python313\\site-packages (from requests->kagglehub) (2.5.0)\n",
      "Requirement already satisfied: certifi>=2017.4.17 in c:\\users\\shubham prajapati.laptop-ovuqkegp\\appdata\\roaming\\python\\python313\\site-packages (from requests->kagglehub) (2025.10.5)\n",
      "Requirement already satisfied: colorama in c:\\users\\shubham prajapati.laptop-ovuqkegp\\appdata\\roaming\\python\\python313\\site-packages (from tqdm->kagglehub) (0.4.6)\n",
      "Note: you may need to restart the kernel to use updated packages.\n"
     ]
    },
    {
     "name": "stderr",
     "output_type": "stream",
     "text": [
      "WARNING: Ignoring invalid distribution ~andas (C:\\Users\\Shubham Prajapati.LAPTOP-OVUQKEGP\\AppData\\Roaming\\Python\\Python313\\site-packages)\n",
      "WARNING: Ignoring invalid distribution ~andas (C:\\Users\\Shubham Prajapati.LAPTOP-OVUQKEGP\\AppData\\Roaming\\Python\\Python313\\site-packages)\n",
      "WARNING: Ignoring invalid distribution ~andas (C:\\Users\\Shubham Prajapati.LAPTOP-OVUQKEGP\\AppData\\Roaming\\Python\\Python313\\site-packages)\n"
     ]
    }
   ],
   "source": [
    "%pip install kagglehub"
   ]
  },
  {
   "cell_type": "code",
   "execution_count": 16,
   "id": "f6d10ff0",
   "metadata": {},
   "outputs": [],
   "source": [
    "import pandas as pd"
   ]
  },
  {
   "cell_type": "code",
   "execution_count": 17,
   "id": "a4ddc026",
   "metadata": {},
   "outputs": [
    {
     "name": "stdout",
     "output_type": "stream",
     "text": [
      "Path to dataset files: C:\\Users\\Shubham Prajapati.LAPTOP-OVUQKEGP\\.cache\\kagglehub\\datasets\\shriyashjagtap\\fraudulent-e-commerce-transactions\\versions\\2\n"
     ]
    }
   ],
   "source": [
    "import kagglehub\n",
    "\n",
    "# Download latest version\n",
    "path = kagglehub.dataset_download(\"shriyashjagtap/fraudulent-e-commerce-transactions\")\n",
    "\n",
    "print(\"Path to dataset files:\", path)"
   ]
  },
  {
   "cell_type": "code",
   "execution_count": 18,
   "id": "215c9acc",
   "metadata": {},
   "outputs": [
    {
     "data": {
      "text/plain": [
       "'C:\\\\Users\\\\Shubham Prajapati.LAPTOP-OVUQKEGP\\\\.cache\\\\kagglehub\\\\datasets\\\\shriyashjagtap\\\\fraudulent-e-commerce-transactions\\\\versions\\\\2'"
      ]
     },
     "execution_count": 18,
     "metadata": {},
     "output_type": "execute_result"
    }
   ],
   "source": [
    "path"
   ]
  },
  {
   "cell_type": "code",
   "execution_count": 19,
   "id": "aaccc8f0",
   "metadata": {},
   "outputs": [
    {
     "name": "stdout",
     "output_type": "stream",
     "text": [
      "Files in dataset: ['Fraudulent_E-Commerce_Transaction_Data.csv', 'Fraudulent_E-Commerce_Transaction_Data_2.csv']\n"
     ]
    }
   ],
   "source": [
    "import os\n",
    "\n",
    "# List files in the dataset directory\n",
    "files = os.listdir(path)\n",
    "print(\"Files in dataset:\", files)"
   ]
  },
  {
   "cell_type": "code",
   "execution_count": 20,
   "id": "f238c16b",
   "metadata": {},
   "outputs": [
    {
     "name": "stdout",
     "output_type": "stream",
     "text": [
      "Dataset loaded successfully from: Fraudulent_E-Commerce_Transaction_Data.csv\n",
      "DataFrame shape: (1472952, 16)\n"
     ]
    }
   ],
   "source": [
    "# Load the dataset into a DataFrame\n",
    "# Assuming the main file is a CSV file\n",
    "csv_file = [f for f in files if f.endswith('.csv')][0]\n",
    "file_path = os.path.join(path, csv_file)\n",
    "\n",
    "df = pd.read_csv(file_path)\n",
    "\n",
    "df.to_csv(\"🚨 Fraudulent E-Commerce Transactions 💳.csv\", index=True)\n",
    "\n",
    "print(f\"Dataset loaded successfully from: {csv_file}\")\n",
    "print(f\"DataFrame shape: {df.shape}\")"
   ]
  },
  {
   "cell_type": "code",
   "execution_count": 21,
   "id": "9c9c0434",
   "metadata": {},
   "outputs": [
    {
     "data": {
      "text/html": [
       "<div>\n",
       "<style scoped>\n",
       "    .dataframe tbody tr th:only-of-type {\n",
       "        vertical-align: middle;\n",
       "    }\n",
       "\n",
       "    .dataframe tbody tr th {\n",
       "        vertical-align: top;\n",
       "    }\n",
       "\n",
       "    .dataframe thead th {\n",
       "        text-align: right;\n",
       "    }\n",
       "</style>\n",
       "<table border=\"1\" class=\"dataframe\">\n",
       "  <thead>\n",
       "    <tr style=\"text-align: right;\">\n",
       "      <th></th>\n",
       "      <th>Transaction ID</th>\n",
       "      <th>Customer ID</th>\n",
       "      <th>Transaction Amount</th>\n",
       "      <th>Transaction Date</th>\n",
       "      <th>Payment Method</th>\n",
       "      <th>Product Category</th>\n",
       "      <th>Quantity</th>\n",
       "      <th>Customer Age</th>\n",
       "      <th>Customer Location</th>\n",
       "      <th>Device Used</th>\n",
       "      <th>IP Address</th>\n",
       "      <th>Shipping Address</th>\n",
       "      <th>Billing Address</th>\n",
       "      <th>Is Fraudulent</th>\n",
       "      <th>Account Age Days</th>\n",
       "      <th>Transaction Hour</th>\n",
       "    </tr>\n",
       "  </thead>\n",
       "  <tbody>\n",
       "    <tr>\n",
       "      <th>0</th>\n",
       "      <td>15d2e414-8735-46fc-9e02-80b472b2580f</td>\n",
       "      <td>d1b87f62-51b2-493b-ad6a-77e0fe13e785</td>\n",
       "      <td>58.09</td>\n",
       "      <td>2024-02-20 05:58:41</td>\n",
       "      <td>bank transfer</td>\n",
       "      <td>electronics</td>\n",
       "      <td>1</td>\n",
       "      <td>17</td>\n",
       "      <td>Amandaborough</td>\n",
       "      <td>tablet</td>\n",
       "      <td>212.195.49.198</td>\n",
       "      <td>Unit 8934 Box 0058\\nDPO AA 05437</td>\n",
       "      <td>Unit 8934 Box 0058\\nDPO AA 05437</td>\n",
       "      <td>0</td>\n",
       "      <td>30</td>\n",
       "      <td>5</td>\n",
       "    </tr>\n",
       "    <tr>\n",
       "      <th>1</th>\n",
       "      <td>0bfee1a0-6d5e-40da-a446-d04e73b1b177</td>\n",
       "      <td>37de64d5-e901-4a56-9ea0-af0c24c069cf</td>\n",
       "      <td>389.96</td>\n",
       "      <td>2024-02-25 08:09:45</td>\n",
       "      <td>debit card</td>\n",
       "      <td>electronics</td>\n",
       "      <td>2</td>\n",
       "      <td>40</td>\n",
       "      <td>East Timothy</td>\n",
       "      <td>desktop</td>\n",
       "      <td>208.106.249.121</td>\n",
       "      <td>634 May Keys\\nPort Cherylview, NV 75063</td>\n",
       "      <td>634 May Keys\\nPort Cherylview, NV 75063</td>\n",
       "      <td>0</td>\n",
       "      <td>72</td>\n",
       "      <td>8</td>\n",
       "    </tr>\n",
       "    <tr>\n",
       "      <th>2</th>\n",
       "      <td>e588eef4-b754-468e-9d90-d0e0abfc1af0</td>\n",
       "      <td>1bac88d6-4b22-409a-a06b-425119c57225</td>\n",
       "      <td>134.19</td>\n",
       "      <td>2024-03-18 03:42:55</td>\n",
       "      <td>PayPal</td>\n",
       "      <td>home &amp; garden</td>\n",
       "      <td>2</td>\n",
       "      <td>22</td>\n",
       "      <td>Davismouth</td>\n",
       "      <td>tablet</td>\n",
       "      <td>76.63.88.212</td>\n",
       "      <td>16282 Dana Falls Suite 790\\nRothhaven, IL 15564</td>\n",
       "      <td>16282 Dana Falls Suite 790\\nRothhaven, IL 15564</td>\n",
       "      <td>0</td>\n",
       "      <td>63</td>\n",
       "      <td>3</td>\n",
       "    </tr>\n",
       "    <tr>\n",
       "      <th>3</th>\n",
       "      <td>4de46e52-60c3-49d9-be39-636681009789</td>\n",
       "      <td>2357c76e-9253-4ceb-b44e-ef4b71cb7d4d</td>\n",
       "      <td>226.17</td>\n",
       "      <td>2024-03-16 20:41:31</td>\n",
       "      <td>bank transfer</td>\n",
       "      <td>clothing</td>\n",
       "      <td>5</td>\n",
       "      <td>31</td>\n",
       "      <td>Lynnberg</td>\n",
       "      <td>desktop</td>\n",
       "      <td>207.208.171.73</td>\n",
       "      <td>828 Strong Loaf Apt. 646\\nNew Joshua, UT 84798</td>\n",
       "      <td>828 Strong Loaf Apt. 646\\nNew Joshua, UT 84798</td>\n",
       "      <td>0</td>\n",
       "      <td>124</td>\n",
       "      <td>20</td>\n",
       "    </tr>\n",
       "    <tr>\n",
       "      <th>4</th>\n",
       "      <td>074a76de-fe2d-443e-a00c-f044cdb68e21</td>\n",
       "      <td>45071bc5-9588-43ea-8093-023caec8ea1c</td>\n",
       "      <td>121.53</td>\n",
       "      <td>2024-01-15 05:08:17</td>\n",
       "      <td>bank transfer</td>\n",
       "      <td>clothing</td>\n",
       "      <td>2</td>\n",
       "      <td>51</td>\n",
       "      <td>South Nicole</td>\n",
       "      <td>tablet</td>\n",
       "      <td>190.172.14.169</td>\n",
       "      <td>29799 Jason Hills Apt. 439\\nWest Richardtown, ...</td>\n",
       "      <td>29799 Jason Hills Apt. 439\\nWest Richardtown, ...</td>\n",
       "      <td>0</td>\n",
       "      <td>158</td>\n",
       "      <td>5</td>\n",
       "    </tr>\n",
       "  </tbody>\n",
       "</table>\n",
       "</div>"
      ],
      "text/plain": [
       "                         Transaction ID                           Customer ID  \\\n",
       "0  15d2e414-8735-46fc-9e02-80b472b2580f  d1b87f62-51b2-493b-ad6a-77e0fe13e785   \n",
       "1  0bfee1a0-6d5e-40da-a446-d04e73b1b177  37de64d5-e901-4a56-9ea0-af0c24c069cf   \n",
       "2  e588eef4-b754-468e-9d90-d0e0abfc1af0  1bac88d6-4b22-409a-a06b-425119c57225   \n",
       "3  4de46e52-60c3-49d9-be39-636681009789  2357c76e-9253-4ceb-b44e-ef4b71cb7d4d   \n",
       "4  074a76de-fe2d-443e-a00c-f044cdb68e21  45071bc5-9588-43ea-8093-023caec8ea1c   \n",
       "\n",
       "   Transaction Amount     Transaction Date Payment Method Product Category  \\\n",
       "0               58.09  2024-02-20 05:58:41  bank transfer      electronics   \n",
       "1              389.96  2024-02-25 08:09:45     debit card      electronics   \n",
       "2              134.19  2024-03-18 03:42:55         PayPal    home & garden   \n",
       "3              226.17  2024-03-16 20:41:31  bank transfer         clothing   \n",
       "4              121.53  2024-01-15 05:08:17  bank transfer         clothing   \n",
       "\n",
       "   Quantity  Customer Age Customer Location Device Used       IP Address  \\\n",
       "0         1            17     Amandaborough      tablet   212.195.49.198   \n",
       "1         2            40      East Timothy     desktop  208.106.249.121   \n",
       "2         2            22        Davismouth      tablet     76.63.88.212   \n",
       "3         5            31          Lynnberg     desktop   207.208.171.73   \n",
       "4         2            51      South Nicole      tablet   190.172.14.169   \n",
       "\n",
       "                                    Shipping Address  \\\n",
       "0                   Unit 8934 Box 0058\\nDPO AA 05437   \n",
       "1            634 May Keys\\nPort Cherylview, NV 75063   \n",
       "2    16282 Dana Falls Suite 790\\nRothhaven, IL 15564   \n",
       "3     828 Strong Loaf Apt. 646\\nNew Joshua, UT 84798   \n",
       "4  29799 Jason Hills Apt. 439\\nWest Richardtown, ...   \n",
       "\n",
       "                                     Billing Address  Is Fraudulent  \\\n",
       "0                   Unit 8934 Box 0058\\nDPO AA 05437              0   \n",
       "1            634 May Keys\\nPort Cherylview, NV 75063              0   \n",
       "2    16282 Dana Falls Suite 790\\nRothhaven, IL 15564              0   \n",
       "3     828 Strong Loaf Apt. 646\\nNew Joshua, UT 84798              0   \n",
       "4  29799 Jason Hills Apt. 439\\nWest Richardtown, ...              0   \n",
       "\n",
       "   Account Age Days  Transaction Hour  \n",
       "0                30                 5  \n",
       "1                72                 8  \n",
       "2                63                 3  \n",
       "3               124                20  \n",
       "4               158                 5  "
      ]
     },
     "execution_count": 21,
     "metadata": {},
     "output_type": "execute_result"
    }
   ],
   "source": [
    "# Display first few rows of the DataFrame\n",
    "df.head()"
   ]
  },
  {
   "cell_type": "code",
   "execution_count": 22,
   "id": "135c7baf",
   "metadata": {},
   "outputs": [
    {
     "name": "stdout",
     "output_type": "stream",
     "text": [
      "<class 'pandas.core.frame.DataFrame'>\n",
      "RangeIndex: 1472952 entries, 0 to 1472951\n",
      "Data columns (total 16 columns):\n",
      " #   Column              Non-Null Count    Dtype  \n",
      "---  ------              --------------    -----  \n",
      " 0   Transaction ID      1472952 non-null  object \n",
      " 1   Customer ID         1472952 non-null  object \n",
      " 2   Transaction Amount  1472952 non-null  float64\n",
      " 3   Transaction Date    1472952 non-null  object \n",
      " 4   Payment Method      1472952 non-null  object \n",
      " 5   Product Category    1472952 non-null  object \n",
      " 6   Quantity            1472952 non-null  int64  \n",
      " 7   Customer Age        1472952 non-null  int64  \n",
      " 8   Customer Location   1472952 non-null  object \n",
      " 9   Device Used         1472952 non-null  object \n",
      " 10  IP Address          1472952 non-null  object \n",
      " 11  Shipping Address    1472952 non-null  object \n",
      " 12  Billing Address     1472952 non-null  object \n",
      " 13  Is Fraudulent       1472952 non-null  int64  \n",
      " 14  Account Age Days    1472952 non-null  int64  \n",
      " 15  Transaction Hour    1472952 non-null  int64  \n",
      "dtypes: float64(1), int64(5), object(10)\n",
      "memory usage: 179.8+ MB\n"
     ]
    }
   ],
   "source": [
    "# Display basic information about the DataFrame\n",
    "df.info()"
   ]
  },
  {
   "cell_type": "code",
   "execution_count": 23,
   "id": "f327bc6f",
   "metadata": {},
   "outputs": [
    {
     "data": {
      "text/html": [
       "<div>\n",
       "<style scoped>\n",
       "    .dataframe tbody tr th:only-of-type {\n",
       "        vertical-align: middle;\n",
       "    }\n",
       "\n",
       "    .dataframe tbody tr th {\n",
       "        vertical-align: top;\n",
       "    }\n",
       "\n",
       "    .dataframe thead th {\n",
       "        text-align: right;\n",
       "    }\n",
       "</style>\n",
       "<table border=\"1\" class=\"dataframe\">\n",
       "  <thead>\n",
       "    <tr style=\"text-align: right;\">\n",
       "      <th></th>\n",
       "      <th>Transaction Amount</th>\n",
       "      <th>Quantity</th>\n",
       "      <th>Customer Age</th>\n",
       "      <th>Is Fraudulent</th>\n",
       "      <th>Account Age Days</th>\n",
       "      <th>Transaction Hour</th>\n",
       "    </tr>\n",
       "  </thead>\n",
       "  <tbody>\n",
       "    <tr>\n",
       "      <th>count</th>\n",
       "      <td>1.472952e+06</td>\n",
       "      <td>1.472952e+06</td>\n",
       "      <td>1.472952e+06</td>\n",
       "      <td>1.472952e+06</td>\n",
       "      <td>1.472952e+06</td>\n",
       "      <td>1.472952e+06</td>\n",
       "    </tr>\n",
       "    <tr>\n",
       "      <th>mean</th>\n",
       "      <td>2.267683e+02</td>\n",
       "      <td>3.000230e+00</td>\n",
       "      <td>3.451208e+01</td>\n",
       "      <td>5.012926e-02</td>\n",
       "      <td>1.796464e+02</td>\n",
       "      <td>1.128696e+01</td>\n",
       "    </tr>\n",
       "    <tr>\n",
       "      <th>std</th>\n",
       "      <td>2.703951e+02</td>\n",
       "      <td>1.414736e+00</td>\n",
       "      <td>1.000313e+01</td>\n",
       "      <td>2.182117e-01</td>\n",
       "      <td>1.068642e+02</td>\n",
       "      <td>6.975995e+00</td>\n",
       "    </tr>\n",
       "    <tr>\n",
       "      <th>min</th>\n",
       "      <td>1.000000e+01</td>\n",
       "      <td>1.000000e+00</td>\n",
       "      <td>-1.600000e+01</td>\n",
       "      <td>0.000000e+00</td>\n",
       "      <td>1.000000e+00</td>\n",
       "      <td>0.000000e+00</td>\n",
       "    </tr>\n",
       "    <tr>\n",
       "      <th>25%</th>\n",
       "      <td>6.861000e+01</td>\n",
       "      <td>2.000000e+00</td>\n",
       "      <td>2.800000e+01</td>\n",
       "      <td>0.000000e+00</td>\n",
       "      <td>8.600000e+01</td>\n",
       "      <td>5.000000e+00</td>\n",
       "    </tr>\n",
       "    <tr>\n",
       "      <th>50%</th>\n",
       "      <td>1.517600e+02</td>\n",
       "      <td>3.000000e+00</td>\n",
       "      <td>3.500000e+01</td>\n",
       "      <td>0.000000e+00</td>\n",
       "      <td>1.790000e+02</td>\n",
       "      <td>1.100000e+01</td>\n",
       "    </tr>\n",
       "    <tr>\n",
       "      <th>75%</th>\n",
       "      <td>2.960500e+02</td>\n",
       "      <td>4.000000e+00</td>\n",
       "      <td>4.100000e+01</td>\n",
       "      <td>0.000000e+00</td>\n",
       "      <td>2.720000e+02</td>\n",
       "      <td>1.700000e+01</td>\n",
       "    </tr>\n",
       "    <tr>\n",
       "      <th>max</th>\n",
       "      <td>1.270175e+04</td>\n",
       "      <td>5.000000e+00</td>\n",
       "      <td>8.600000e+01</td>\n",
       "      <td>1.000000e+00</td>\n",
       "      <td>3.650000e+02</td>\n",
       "      <td>2.300000e+01</td>\n",
       "    </tr>\n",
       "  </tbody>\n",
       "</table>\n",
       "</div>"
      ],
      "text/plain": [
       "       Transaction Amount      Quantity  Customer Age  Is Fraudulent  \\\n",
       "count        1.472952e+06  1.472952e+06  1.472952e+06   1.472952e+06   \n",
       "mean         2.267683e+02  3.000230e+00  3.451208e+01   5.012926e-02   \n",
       "std          2.703951e+02  1.414736e+00  1.000313e+01   2.182117e-01   \n",
       "min          1.000000e+01  1.000000e+00 -1.600000e+01   0.000000e+00   \n",
       "25%          6.861000e+01  2.000000e+00  2.800000e+01   0.000000e+00   \n",
       "50%          1.517600e+02  3.000000e+00  3.500000e+01   0.000000e+00   \n",
       "75%          2.960500e+02  4.000000e+00  4.100000e+01   0.000000e+00   \n",
       "max          1.270175e+04  5.000000e+00  8.600000e+01   1.000000e+00   \n",
       "\n",
       "       Account Age Days  Transaction Hour  \n",
       "count      1.472952e+06      1.472952e+06  \n",
       "mean       1.796464e+02      1.128696e+01  \n",
       "std        1.068642e+02      6.975995e+00  \n",
       "min        1.000000e+00      0.000000e+00  \n",
       "25%        8.600000e+01      5.000000e+00  \n",
       "50%        1.790000e+02      1.100000e+01  \n",
       "75%        2.720000e+02      1.700000e+01  \n",
       "max        3.650000e+02      2.300000e+01  "
      ]
     },
     "execution_count": 23,
     "metadata": {},
     "output_type": "execute_result"
    }
   ],
   "source": [
    "# Display statistical summary\n",
    "df.describe()"
   ]
  },
  {
   "cell_type": "code",
   "execution_count": 24,
   "id": "941d9085",
   "metadata": {},
   "outputs": [
    {
     "name": "stdout",
     "output_type": "stream",
     "text": [
      "Column names:\n",
      "['Transaction ID', 'Customer ID', 'Transaction Amount', 'Transaction Date', 'Payment Method', 'Product Category', 'Quantity', 'Customer Age', 'Customer Location', 'Device Used', 'IP Address', 'Shipping Address', 'Billing Address', 'Is Fraudulent', 'Account Age Days', 'Transaction Hour']\n"
     ]
    }
   ],
   "source": [
    "# Check column names\n",
    "print(\"Column names:\")\n",
    "print(df.columns.tolist())"
   ]
  },
  {
   "cell_type": "code",
   "execution_count": null,
   "id": "da0f03ea",
   "metadata": {},
   "outputs": [],
   "source": []
  },
  {
   "cell_type": "markdown",
   "id": "c41c05e1",
   "metadata": {},
   "source": [
    "# Discrete Mathematics for Fraud Detection\n",
    "\n",
    "## Key Concepts to Apply:\n",
    "1. **Set Theory** - Define sets of fraudulent vs non-fraudulent transactions\n",
    "2. **Logic & Propositional Calculus** - Create logical rules for fraud detection\n",
    "3. **Relations** - Analyze relationships between customers, IPs, addresses\n",
    "4. **Graph Theory** - Build transaction networks and detect anomalies\n",
    "5. **Combinatorics** - Analyze patterns and probabilities\n",
    "6. **Boolean Algebra** - Create fraud detection rules"
   ]
  },
  {
   "cell_type": "code",
   "execution_count": 25,
   "id": "bf0bec67",
   "metadata": {},
   "outputs": [
    {
     "name": "stdout",
     "output_type": "stream",
     "text": [
      "Fraud Distribution:\n",
      "Is Fraudulent\n",
      "0    1399114\n",
      "1      73838\n",
      "Name: count, dtype: int64\n",
      "\n",
      "Fraud Rate: 5.01%\n"
     ]
    }
   ],
   "source": [
    "# First, let's examine the fraud distribution\n",
    "print(\"Fraud Distribution:\")\n",
    "print(df['Is Fraudulent'].value_counts())\n",
    "print(f\"\\nFraud Rate: {df['Is Fraudulent'].mean() * 100:.2f}%\")"
   ]
  },
  {
   "cell_type": "markdown",
   "id": "be026a25",
   "metadata": {},
   "source": [
    "## 1. SET THEORY APPLICATION"
   ]
  },
  {
   "cell_type": "code",
   "execution_count": 26,
   "id": "79a1d215",
   "metadata": {},
   "outputs": [
    {
     "name": "stdout",
     "output_type": "stream",
     "text": [
      "Set F (Fraudulent): 73838 transactions\n",
      "Set NF (Non-Fraudulent): 1399114 transactions\n",
      "Set H (High-Value >$500): 143219 transactions\n",
      "Set N (Night transactions): 573434 transactions\n",
      "Set Y (Young customers): 232752 transactions\n",
      "Set NA (New accounts): 143330 transactions\n"
     ]
    }
   ],
   "source": [
    "# Define sets based on characteristics\n",
    "# Set Theory: Create sets of transactions with different properties\n",
    "\n",
    "# Set F: Fraudulent transactions\n",
    "F = set(df[df['Is Fraudulent'] == 1].index)\n",
    "\n",
    "# Set NF: Non-Fraudulent transactions  \n",
    "NF = set(df[df['Is Fraudulent'] == 0].index)\n",
    "\n",
    "# Set H: High-value transactions (>$500)\n",
    "H = set(df[df['Transaction Amount'] > 500].index)\n",
    "\n",
    "# Set N: Night transactions (10 PM - 6 AM)\n",
    "N = set(df[(df['Transaction Hour'] >= 22) | (df['Transaction Hour'] <= 6)].index)\n",
    "\n",
    "# Set Y: Young customers (<25 years)\n",
    "Y = set(df[df['Customer Age'] < 25].index)\n",
    "\n",
    "# Set NA: New accounts (<30 days)\n",
    "NA = set(df[df['Account Age Days'] < 30].index)\n",
    "\n",
    "print(f\"Set F (Fraudulent): {len(F)} transactions\")\n",
    "print(f\"Set NF (Non-Fraudulent): {len(NF)} transactions\")\n",
    "print(f\"Set H (High-Value >$500): {len(H)} transactions\")\n",
    "print(f\"Set N (Night transactions): {len(N)} transactions\")\n",
    "print(f\"Set Y (Young customers): {len(Y)} transactions\")\n",
    "print(f\"Set NA (New accounts): {len(NA)} transactions\")"
   ]
  },
  {
   "cell_type": "code",
   "execution_count": 27,
   "id": "33f87cf9",
   "metadata": {},
   "outputs": [
    {
     "name": "stdout",
     "output_type": "stream",
     "text": [
      "\n",
      "F ∩ H (Fraudulent AND High-value): 22750\n",
      "Percentage of fraudulent high-value transactions: 15.88%\n",
      "\n",
      "F ∩ N (Fraudulent AND Night): 46320\n",
      "Percentage of night transactions that are fraudulent: 8.08%\n",
      "\n",
      "F ∩ Y ∩ NA (Fraudulent AND Young AND New Account): 5130\n",
      "Risk score for young+new accounts: 22.46%\n",
      "\n",
      "NF ∩ H (Non-Fraudulent AND High-value): 120469\n"
     ]
    }
   ],
   "source": [
    "# Set Operations: Intersection, Union, Difference\n",
    "\n",
    "# Intersection: Fraudulent AND High-value\n",
    "F_intersect_H = F.intersection(H)\n",
    "print(f\"\\nF ∩ H (Fraudulent AND High-value): {len(F_intersect_H)}\")\n",
    "print(f\"Percentage of fraudulent high-value transactions: {len(F_intersect_H)/len(H)*100:.2f}%\")\n",
    "\n",
    "# Intersection: Fraudulent AND Night transactions\n",
    "F_intersect_N = F.intersection(N)\n",
    "print(f\"\\nF ∩ N (Fraudulent AND Night): {len(F_intersect_N)}\")\n",
    "print(f\"Percentage of night transactions that are fraudulent: {len(F_intersect_N)/len(N)*100:.2f}%\")\n",
    "\n",
    "# Intersection: Fraudulent AND Young AND New Account\n",
    "F_intersect_Y_NA = F.intersection(Y).intersection(NA)\n",
    "print(f\"\\nF ∩ Y ∩ NA (Fraudulent AND Young AND New Account): {len(F_intersect_Y_NA)}\")\n",
    "print(f\"Risk score for young+new accounts: {len(F_intersect_Y_NA)/len(Y.intersection(NA))*100:.2f}%\")\n",
    "\n",
    "# Complement: Non-fraudulent in high-value\n",
    "NF_intersect_H = NF.intersection(H)\n",
    "print(f\"\\nNF ∩ H (Non-Fraudulent AND High-value): {len(NF_intersect_H)}\")"
   ]
  },
  {
   "cell_type": "markdown",
   "id": "7d8ebdd0",
   "metadata": {},
   "source": [
    "## 2. PROPOSITIONAL LOGIC & BOOLEAN ALGEBRA"
   ]
  },
  {
   "cell_type": "code",
   "execution_count": 28,
   "id": "da8b4d4a",
   "metadata": {},
   "outputs": [
    {
     "name": "stdout",
     "output_type": "stream",
     "text": [
      "Logical Rules Analysis:\n",
      "Rule 1 (High Amount ∧ Night): 59147 transactions\n",
      "Rule 2 (New Account ∧ High Amount): 19565 transactions\n",
      "Rule 3 (High Amount ∧ Diff Addresses): 14269 transactions\n",
      "Rule 4 (New ∧ Night ∧ High): 9830 transactions\n",
      "Rule 5 ((High ∨ Night) ∧ New): 71779 transactions\n"
     ]
    }
   ],
   "source": [
    "# Create logical propositions for fraud detection\n",
    "# p: High transaction amount\n",
    "# q: Night transaction\n",
    "# r: New account\n",
    "# s: Young customer\n",
    "# t: Shipping != Billing address\n",
    "\n",
    "# Define boolean variables\n",
    "df['p_high_amount'] = df['Transaction Amount'] > 500\n",
    "df['q_night'] = (df['Transaction Hour'] >= 22) | (df['Transaction Hour'] <= 6)\n",
    "df['r_new_account'] = df['Account Age Days'] < 30\n",
    "df['s_young'] = df['Customer Age'] < 25\n",
    "df['t_diff_address'] = df['Shipping Address'] != df['Billing Address']\n",
    "\n",
    "# Logical Rules using Boolean Algebra\n",
    "# Rule 1: (p AND q) - High amount at night\n",
    "df['rule1'] = df['p_high_amount'] & df['q_night']\n",
    "\n",
    "# Rule 2: (r AND p) - New account with high transaction\n",
    "df['rule2'] = df['r_new_account'] & df['p_high_amount']\n",
    "\n",
    "# Rule 3: (p AND t) - High amount with different addresses\n",
    "df['rule3'] = df['p_high_amount'] & df['t_diff_address']\n",
    "\n",
    "# Rule 4: (r AND q AND p) - New account, night, high amount\n",
    "df['rule4'] = df['r_new_account'] & df['q_night'] & df['p_high_amount']\n",
    "\n",
    "# Rule 5: Complex rule: ((p OR q) AND r) - Risky patterns for new accounts\n",
    "df['rule5'] = (df['p_high_amount'] | df['q_night']) & df['r_new_account']\n",
    "\n",
    "print(\"Logical Rules Analysis:\")\n",
    "print(f\"Rule 1 (High Amount ∧ Night): {df['rule1'].sum()} transactions\")\n",
    "print(f\"Rule 2 (New Account ∧ High Amount): {df['rule2'].sum()} transactions\")\n",
    "print(f\"Rule 3 (High Amount ∧ Diff Addresses): {df['rule3'].sum()} transactions\")\n",
    "print(f\"Rule 4 (New ∧ Night ∧ High): {df['rule4'].sum()} transactions\")\n",
    "print(f\"Rule 5 ((High ∨ Night) ∧ New): {df['rule5'].sum()} transactions\")"
   ]
  },
  {
   "cell_type": "code",
   "execution_count": 29,
   "id": "38fd8770",
   "metadata": {},
   "outputs": [
    {
     "name": "stdout",
     "output_type": "stream",
     "text": [
      "\n",
      "Rule Effectiveness (Precision for Fraud Detection):\n",
      "\n",
      "Rule 1:\n",
      "  Triggered: 59147 times\n",
      "  Frauds caught: 14170\n",
      "  Precision: 23.96%\n",
      "  Recall: 19.19%\n",
      "\n",
      "Rule 2:\n",
      "  Triggered: 19565 times\n",
      "  Frauds caught: 9938\n",
      "  Precision: 50.79%\n",
      "  Recall: 13.46%\n",
      "\n",
      "Rule 3:\n",
      "  Triggered: 14269 times\n",
      "  Frauds caught: 2238\n",
      "  Precision: 15.68%\n",
      "  Recall: 3.03%\n",
      "\n",
      "Rule 4:\n",
      "  Triggered: 9830 times\n",
      "  Frauds caught: 6180\n",
      "  Precision: 62.87%\n",
      "  Recall: 8.37%\n",
      "\n",
      "Rule 5:\n",
      "  Triggered: 71779 times\n",
      "  Frauds caught: 23887\n",
      "  Precision: 33.28%\n",
      "  Recall: 32.35%\n"
     ]
    }
   ],
   "source": [
    "# Evaluate rule effectiveness for fraud detection\n",
    "print(\"\\nRule Effectiveness (Precision for Fraud Detection):\")\n",
    "for i, rule in enumerate(['rule1', 'rule2', 'rule3', 'rule4', 'rule5'], 1):\n",
    "    rule_triggered = df[df[rule] == True]\n",
    "    if len(rule_triggered) > 0:\n",
    "        fraud_in_rule = rule_triggered['Is Fraudulent'].sum()\n",
    "        precision = fraud_in_rule / len(rule_triggered) * 100\n",
    "        recall = fraud_in_rule / df['Is Fraudulent'].sum() * 100\n",
    "        print(f\"\\nRule {i}:\")\n",
    "        print(f\"  Triggered: {len(rule_triggered)} times\")\n",
    "        print(f\"  Frauds caught: {fraud_in_rule}\")\n",
    "        print(f\"  Precision: {precision:.2f}%\")\n",
    "        print(f\"  Recall: {recall:.2f}%\")"
   ]
  },
  {
   "cell_type": "markdown",
   "id": "aac99680",
   "metadata": {},
   "source": [
    "## 3. RELATIONS - Analyzing Connections"
   ]
  },
  {
   "cell_type": "code",
   "execution_count": 30,
   "id": "2ee0ad3f",
   "metadata": {},
   "outputs": [
    {
     "name": "stdout",
     "output_type": "stream",
     "text": [
      "Relation Analysis:\n",
      "IPs shared by multiple customers: 301\n",
      "Max customers per IP: 2\n",
      "\n",
      "Customers using >2 different devices: 0\n",
      "\n",
      "Fraud rate for shared IPs: 4.98%\n",
      "Fraud rate for unique IPs: 5.01%\n",
      "\n",
      "Unique transaction signatures: 1472952\n",
      "Average transactions per signature: 1.00\n"
     ]
    }
   ],
   "source": [
    "# Relations: Customer-to-IP, Customer-to-Device, IP-to-Multiple-Customers\n",
    "# Relation R: (Customer, IP Address)\n",
    "\n",
    "# Find customers sharing same IP address (suspicious relation)\n",
    "ip_customers = df.groupby('IP Address')['Customer ID'].nunique()\n",
    "shared_ips = ip_customers[ip_customers > 1]\n",
    "print(f\"Relation Analysis:\")\n",
    "print(f\"IPs shared by multiple customers: {len(shared_ips)}\")\n",
    "print(f\"Max customers per IP: {shared_ips.max()}\")\n",
    "\n",
    "# Customers with multiple devices (could indicate account compromise)\n",
    "customer_devices = df.groupby('Customer ID')['Device Used'].nunique()\n",
    "multi_device_customers = customer_devices[customer_devices > 2]\n",
    "print(f\"\\nCustomers using >2 different devices: {len(multi_device_customers)}\")\n",
    "\n",
    "# Check fraud rate for shared IPs\n",
    "df['shared_ip'] = df['IP Address'].isin(shared_ips.index)\n",
    "print(f\"\\nFraud rate for shared IPs: {df[df['shared_ip']]['Is Fraudulent'].mean()*100:.2f}%\")\n",
    "print(f\"Fraud rate for unique IPs: {df[~df['shared_ip']]['Is Fraudulent'].mean()*100:.2f}%\")\n",
    "\n",
    "# Equivalence Relation: Transactions with same (Customer, IP, Device) combination\n",
    "df['txn_signature'] = df['Customer ID'] + '_' + df['IP Address'] + '_' + df['Device Used']\n",
    "signature_groups = df.groupby('txn_signature').agg({\n",
    "    'Transaction ID': 'count',\n",
    "    'Is Fraudulent': 'mean'\n",
    "}).rename(columns={'Transaction ID': 'count', 'Is Fraudulent': 'fraud_rate'})\n",
    "\n",
    "print(f\"\\nUnique transaction signatures: {len(signature_groups)}\")\n",
    "print(f\"Average transactions per signature: {signature_groups['count'].mean():.2f}\")"
   ]
  },
  {
   "cell_type": "markdown",
   "id": "31943e09",
   "metadata": {},
   "source": [
    "## 4. GRAPH THEORY - Transaction Networks"
   ]
  },
  {
   "cell_type": "code",
   "execution_count": 31,
   "id": "c29b44bd",
   "metadata": {},
   "outputs": [
    {
     "name": "stdout",
     "output_type": "stream",
     "text": [
      "Graph Statistics:\n",
      "Nodes: 200\n",
      "Edges: 100\n",
      "Average degree: 1.00\n",
      "\n",
      "High-degree nodes (>3 connections): 0\n"
     ]
    }
   ],
   "source": [
    "import networkx as nx\n",
    "import matplotlib.pyplot as plt\n",
    "\n",
    "# Create a bipartite graph: Customers <-> IP Addresses\n",
    "# Sample a subset for visualization (full dataset too large)\n",
    "sample_fraud = df[df['Is Fraudulent'] == 1].sample(n=min(100, len(df[df['Is Fraudulent'] == 1])), random_state=42)\n",
    "\n",
    "G = nx.Graph()\n",
    "\n",
    "# Add edges between customers and IP addresses\n",
    "for _, row in sample_fraud.iterrows():\n",
    "    G.add_edge(f\"C_{row['Customer ID'][:8]}\", f\"IP_{row['IP Address']}\", weight=row['Transaction Amount'])\n",
    "\n",
    "print(f\"Graph Statistics:\")\n",
    "print(f\"Nodes: {G.number_of_nodes()}\")\n",
    "print(f\"Edges: {G.number_of_edges()}\")\n",
    "\n",
    "# Calculate degree (number of connections)\n",
    "degrees = dict(G.degree())\n",
    "print(f\"Average degree: {sum(degrees.values())/len(degrees):.2f}\")\n",
    "\n",
    "# Find nodes with high degree (suspicious - connecting many entities)\n",
    "high_degree_nodes = {node: deg for node, deg in degrees.items() if deg > 3}\n",
    "print(f\"\\nHigh-degree nodes (>3 connections): {len(high_degree_nodes)}\")\n",
    "if high_degree_nodes:\n",
    "    print(\"Examples:\", list(high_degree_nodes.items())[:5])"
   ]
  },
  {
   "cell_type": "code",
   "execution_count": 32,
   "id": "e97158b6",
   "metadata": {},
   "outputs": [
    {
     "name": "stdout",
     "output_type": "stream",
     "text": [
      "\n",
      "Connected Components (Potential Fraud Rings): 100\n",
      "Largest component size: 2\n",
      "Average component size: 2.00\n",
      "\n",
      "Large components (>5 nodes): 0\n"
     ]
    }
   ],
   "source": [
    "# Detect connected components (fraud rings)\n",
    "components = list(nx.connected_components(G))\n",
    "print(f\"\\nConnected Components (Potential Fraud Rings): {len(components)}\")\n",
    "component_sizes = [len(c) for c in components]\n",
    "print(f\"Largest component size: {max(component_sizes)}\")\n",
    "print(f\"Average component size: {sum(component_sizes)/len(component_sizes):.2f}\")\n",
    "\n",
    "# Large components might indicate organized fraud rings\n",
    "large_components = [c for c in components if len(c) > 5]\n",
    "print(f\"\\nLarge components (>5 nodes): {len(large_components)}\")"
   ]
  },
  {
   "cell_type": "markdown",
   "id": "541e0ff6",
   "metadata": {},
   "source": [
    "## 5. COMBINATORICS - Pattern Analysis"
   ]
  },
  {
   "cell_type": "code",
   "execution_count": 33,
   "id": "9237075a",
   "metadata": {},
   "outputs": [
    {
     "name": "stdout",
     "output_type": "stream",
     "text": [
      "Feature Combination Analysis (Fraud Rates):\n",
      "\n",
      "\n",
      "Payment Method × Product Category:\n",
      "Highest risk combinations:\n",
      "  ('bank transfer', 'toys & games'): 5.27% fraud rate (73544 transactions)\n",
      "  ('PayPal', 'health & beauty'): 5.17% fraud rate (74081 transactions)\n",
      "  ('credit card', 'home & garden'): 5.09% fraud rate (73133 transactions)\n",
      "\n",
      "Payment Method × Device Used:\n",
      "Highest risk combinations:\n",
      "  ('debit card', 'mobile'): 5.12% fraud rate (122781 transactions)\n",
      "  ('PayPal', 'mobile'): 5.11% fraud rate (122823 transactions)\n",
      "  ('bank transfer', 'desktop'): 5.07% fraud rate (122646 transactions)\n",
      "\n",
      "Payment Method × Customer Location:\n",
      "Highest risk combinations:\n",
      "  ('debit card', 'Michaelburgh'): 11.81% fraud rate (127 transactions)\n",
      "  ('PayPal', 'South Lisa'): 11.76% fraud rate (119 transactions)\n",
      "  ('PayPal', 'East Daniel'): 11.19% fraud rate (134 transactions)\n",
      "\n",
      "Product Category × Device Used:\n",
      "Highest risk combinations:\n",
      "  ('clothing', 'tablet'): 5.10% fraud rate (98023 transactions)\n",
      "  ('toys & games', 'mobile'): 5.10% fraud rate (98320 transactions)\n",
      "  ('toys & games', 'desktop'): 5.09% fraud rate (97901 transactions)\n",
      "\n",
      "Product Category × Customer Location:\n",
      "Highest risk combinations:\n",
      "  ('home & garden', 'Lake Christopher'): 12.41% fraud rate (145 transactions)\n",
      "  ('home & garden', 'Lake Jessica'): 12.26% fraud rate (106 transactions)\n",
      "  ('toys & games', 'Port William'): 10.81% fraud rate (111 transactions)\n",
      "\n",
      "Device Used × Customer Location:\n",
      "Highest risk combinations:\n",
      "  ('tablet', 'New Anthony'): 13.08% fraud rate (130 transactions)\n",
      "  ('mobile', 'Port Eric'): 10.71% fraud rate (112 transactions)\n",
      "  ('mobile', 'South Charles'): 10.68% fraud rate (103 transactions)\n"
     ]
    }
   ],
   "source": [
    "# Combinatorics: Analyze combinations of features for fraud patterns\n",
    "from itertools import combinations\n",
    "\n",
    "# Feature combinations\n",
    "features = ['Payment Method', 'Product Category', 'Device Used', 'Customer Location']\n",
    "\n",
    "# Analyze 2-feature combinations\n",
    "print(\"Feature Combination Analysis (Fraud Rates):\\n\")\n",
    "for feat1, feat2 in combinations(features, 2):\n",
    "    combo_df = df.groupby([feat1, feat2])['Is Fraudulent'].agg(['mean', 'count'])\n",
    "    combo_df = combo_df[combo_df['count'] > 100]  # Only significant combinations\n",
    "    \n",
    "    if len(combo_df) > 0:\n",
    "        highest_risk = combo_df.nlargest(3, 'mean')\n",
    "        print(f\"\\n{feat1} × {feat2}:\")\n",
    "        print(f\"Highest risk combinations:\")\n",
    "        for idx, row in highest_risk.iterrows():\n",
    "            print(f\"  {idx}: {row['mean']*100:.2f}% fraud rate ({int(row['count'])} transactions)\")"
   ]
  },
  {
   "cell_type": "markdown",
   "id": "5cffa2f0",
   "metadata": {},
   "source": [
    "## 6. COMPREHENSIVE FRAUD SCORING SYSTEM"
   ]
  },
  {
   "cell_type": "code",
   "execution_count": 34,
   "id": "2d4a1121",
   "metadata": {},
   "outputs": [
    {
     "name": "stdout",
     "output_type": "stream",
     "text": [
      "Fraud Risk Score Distribution:\n",
      "fraud_risk_score\n",
      "0     563987\n",
      "1     105529\n",
      "2     468964\n",
      "3     142069\n",
      "4      55583\n",
      "5      54056\n",
      "6      45887\n",
      "7      11533\n",
      "8      12402\n",
      "9       2191\n",
      "10       776\n",
      "11       145\n",
      "12      7466\n",
      "13      1393\n",
      "14       802\n",
      "15       169\n",
      "Name: count, dtype: int64\n",
      "\n",
      "Average score for fraudulent: 4.32\n",
      "Average score for legitimate: 1.61\n"
     ]
    }
   ],
   "source": [
    "# Create a fraud risk score using discrete math concepts\n",
    "def calculate_fraud_score(row):\n",
    "    \"\"\"\n",
    "    Fraud scoring using discrete mathematics principles:\n",
    "    - Boolean logic for rule evaluation\n",
    "    - Set membership for categorical risk\n",
    "    - Weighted sum for final score\n",
    "    \"\"\"\n",
    "    score = 0\n",
    "    \n",
    "    # Boolean rules (each adds points)\n",
    "    if row['Transaction Amount'] > 500:  # High amount\n",
    "        score += 2\n",
    "    if row['Transaction Hour'] >= 22 or row['Transaction Hour'] <= 6:  # Night\n",
    "        score += 2\n",
    "    if row['Account Age Days'] < 30:  # New account\n",
    "        score += 3\n",
    "    if row['Shipping Address'] != row['Billing Address']:  # Different addresses\n",
    "        score += 2\n",
    "    if row['Customer Age'] < 25:  # Young customer\n",
    "        score += 1\n",
    "    \n",
    "    # Compound rules (Boolean algebra)\n",
    "    if (row['Transaction Amount'] > 500) and (row['Account Age Days'] < 30):  # High + New\n",
    "        score += 3\n",
    "    if (row['Transaction Hour'] >= 22 or row['Transaction Hour'] <= 6) and (row['Transaction Amount'] > 500):  # Night + High\n",
    "        score += 2\n",
    "    \n",
    "    return score\n",
    "\n",
    "# Apply scoring\n",
    "df['fraud_risk_score'] = df.apply(calculate_fraud_score, axis=1)\n",
    "\n",
    "print(\"Fraud Risk Score Distribution:\")\n",
    "print(df['fraud_risk_score'].value_counts().sort_index())\n",
    "print(f\"\\nAverage score for fraudulent: {df[df['Is Fraudulent']==1]['fraud_risk_score'].mean():.2f}\")\n",
    "print(f\"Average score for legitimate: {df[df['Is Fraudulent']==0]['fraud_risk_score'].mean():.2f}\")"
   ]
  },
  {
   "cell_type": "code",
   "execution_count": 35,
   "id": "a2ed4da5",
   "metadata": {},
   "outputs": [
    {
     "name": "stdout",
     "output_type": "stream",
     "text": [
      "\n",
      "Threshold Analysis:\n",
      "Threshold  Precision    Recall       F1-Score     Flagged   \n",
      "------------------------------------------------------------\n",
      "3          0.1368       0.6195       0.2241       334472    \n",
      "5          0.2416       0.4477       0.3139       136820    \n",
      "7          0.3626       0.1811       0.2416       36877     \n",
      "9          0.5562       0.0975       0.1659       12942     \n"
     ]
    }
   ],
   "source": [
    "# Evaluate scoring system effectiveness\n",
    "threshold_scores = range(0, 15)\n",
    "print(\"\\nThreshold Analysis:\")\n",
    "print(f\"{'Threshold':<10} {'Precision':<12} {'Recall':<12} {'F1-Score':<12} {'Flagged':<10}\")\n",
    "print(\"-\" * 60)\n",
    "\n",
    "for threshold in [3, 5, 7, 9]:\n",
    "    predictions = (df['fraud_risk_score'] >= threshold).astype(int)\n",
    "    \n",
    "    # Calculate metrics\n",
    "    true_positives = ((predictions == 1) & (df['Is Fraudulent'] == 1)).sum()\n",
    "    false_positives = ((predictions == 1) & (df['Is Fraudulent'] == 0)).sum()\n",
    "    false_negatives = ((predictions == 0) & (df['Is Fraudulent'] == 1)).sum()\n",
    "    \n",
    "    precision = true_positives / (true_positives + false_positives) if (true_positives + false_positives) > 0 else 0\n",
    "    recall = true_positives / (true_positives + false_negatives) if (true_positives + false_negatives) > 0 else 0\n",
    "    f1 = 2 * (precision * recall) / (precision + recall) if (precision + recall) > 0 else 0\n",
    "    flagged = predictions.sum()\n",
    "    \n",
    "    print(f\"{threshold:<10} {precision:<12.4f} {recall:<12.4f} {f1:<12.4f} {flagged:<10}\")"
   ]
  },
  {
   "cell_type": "markdown",
   "id": "0c7df273",
   "metadata": {},
   "source": [
    "## 7. SUMMARY: Discrete Mathematics Applications\n",
    "\n",
    "### Concepts Applied:\n",
    "\n",
    "1. **Set Theory**\n",
    "   - Defined sets of fraudulent/non-fraudulent transactions\n",
    "   - Used intersection, union, complement operations\n",
    "   - Analyzed set membership for risk assessment\n",
    "\n",
    "2. **Propositional Logic & Boolean Algebra**\n",
    "   - Created logical propositions (p, q, r, s, t)\n",
    "   - Built compound rules using AND, OR, NOT operations\n",
    "   - Evaluated rule effectiveness (precision/recall)\n",
    "\n",
    "3. **Relations**\n",
    "   - Analyzed customer-IP relations\n",
    "   - Detected equivalence classes (transaction signatures)\n",
    "   - Found suspicious many-to-many relationships\n",
    "\n",
    "4. **Graph Theory**\n",
    "   - Built bipartite graphs (customers ↔ IPs)\n",
    "   - Detected connected components (fraud rings)\n",
    "   - Calculated node degrees (connection patterns)\n",
    "\n",
    "5. **Combinatorics**\n",
    "   - Analyzed feature combinations\n",
    "   - Identified high-risk patterns\n",
    "   - Calculated conditional probabilities\n",
    "\n",
    "6. **Scoring System**\n",
    "   - Combined all concepts into weighted fraud score\n",
    "   - Used Boolean evaluation for rule-based detection\n",
    "   - Optimized threshold using metrics"
   ]
  }
 ],
 "metadata": {
  "kernelspec": {
   "display_name": "Python 3",
   "language": "python",
   "name": "python3"
  },
  "language_info": {
   "codemirror_mode": {
    "name": "ipython",
    "version": 3
   },
   "file_extension": ".py",
   "mimetype": "text/x-python",
   "name": "python",
   "nbconvert_exporter": "python",
   "pygments_lexer": "ipython3",
   "version": "3.13.7"
  }
 },
 "nbformat": 4,
 "nbformat_minor": 5
}
